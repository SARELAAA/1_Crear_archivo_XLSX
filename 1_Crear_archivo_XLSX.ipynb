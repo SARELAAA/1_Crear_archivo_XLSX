{
 "cells": [
  {
   "cell_type": "code",
   "execution_count": 1,
   "id": "b2644eb0",
   "metadata": {},
   "outputs": [],
   "source": [
    "expenses = (\n",
    "    ['Rent', 1000],\n",
    "    ['Gas',   100],\n",
    "    ['Food',  300],\n",
    "    ['Gym',    50],\n",
    ")"
   ]
  },
  {
   "cell_type": "code",
   "execution_count": 3,
   "id": "6dcc2a32",
   "metadata": {},
   "outputs": [
    {
     "name": "stdout",
     "output_type": "stream",
     "text": [
      "(['Rent', 1000], ['Gas', 100], ['Food', 300], ['Gym', 50])\n"
     ]
    }
   ],
   "source": [
    "print(expenses)"
   ]
  },
  {
   "cell_type": "code",
   "execution_count": 4,
   "id": "13e8d6d4",
   "metadata": {},
   "outputs": [],
   "source": [
    "import xlsxwriter\n",
    "\n",
    "# Create a workbook and add a worksheet.\n",
    "workbook = xlsxwriter.Workbook('Expenses01.xlsx')\n",
    "worksheet = workbook.add_worksheet()\n",
    "\n",
    "# Some data we want to write to the worksheet.\n",
    "expenses = (\n",
    "    ['Rent', 1000],\n",
    "    ['Gas',   100],\n",
    "    ['Food',  300],\n",
    "    ['Gym',    50],\n",
    ")\n",
    "\n",
    "# Start from the first cell. Rows and columns are zero indexed.\n",
    "row = 0\n",
    "col = 0\n",
    "\n",
    "# Iterate over the data and write it out row by row.\n",
    "for item, cost in (expenses):\n",
    "    worksheet.write(row, col,     item)\n",
    "    worksheet.write(row, col + 1, cost)\n",
    "    row += 1\n",
    "\n",
    "# Write a total using a formula.\n",
    "worksheet.write(row, 0, 'Total')\n",
    "worksheet.write(row, 1, '=SUM(B1:B4)')\n",
    "\n",
    "workbook.close()"
   ]
  },
  {
   "cell_type": "code",
   "execution_count": 5,
   "id": "615b534c",
   "metadata": {},
   "outputs": [],
   "source": [
    "import xlsxwriter"
   ]
  },
  {
   "cell_type": "code",
   "execution_count": 6,
   "id": "392d1f49",
   "metadata": {},
   "outputs": [],
   "source": [
    "workbook = xlsxwriter.Workbook('Expenses01.xlsx')"
   ]
  },
  {
   "cell_type": "code",
   "execution_count": 7,
   "id": "d7d395db",
   "metadata": {},
   "outputs": [],
   "source": [
    "worksheet = workbook.add_worksheet()"
   ]
  },
  {
   "cell_type": "code",
   "execution_count": 8,
   "id": "42d4fd84",
   "metadata": {},
   "outputs": [],
   "source": [
    "worksheet1 = workbook.add_worksheet()        # Defaults to Sheet1.\n",
    "worksheet2 = workbook.add_worksheet('Data')  # Data.\n",
    "worksheet3 = workbook.add_worksheet()        # Defaults to Sheet3."
   ]
  },
  {
   "cell_type": "code",
   "execution_count": 10,
   "id": "7c4067ab",
   "metadata": {},
   "outputs": [],
   "source": [
    "# Iterate over the data and write it out row by row.\n",
    "for item, cost in (expenses):\n",
    "    worksheet.write(row, col,     item)\n",
    "    worksheet.write(row, col + 1, cost)\n",
    "    row += 1"
   ]
  },
  {
   "cell_type": "code",
   "execution_count": 11,
   "id": "b7c139a9",
   "metadata": {},
   "outputs": [
    {
     "data": {
      "text/plain": [
       "0"
      ]
     },
     "execution_count": 11,
     "metadata": {},
     "output_type": "execute_result"
    }
   ],
   "source": [
    "worksheet.write(row, 1, '=SUM(B1:B4)')"
   ]
  },
  {
   "cell_type": "code",
   "execution_count": 12,
   "id": "c090ba26",
   "metadata": {},
   "outputs": [],
   "source": [
    "workbook.close()"
   ]
  },
  {
   "cell_type": "code",
   "execution_count": null,
   "id": "1d4bdec7",
   "metadata": {},
   "outputs": [],
   "source": []
  }
 ],
 "metadata": {
  "kernelspec": {
   "display_name": "Python 3",
   "language": "python",
   "name": "python3"
  },
  "language_info": {
   "codemirror_mode": {
    "name": "ipython",
    "version": 3
   },
   "file_extension": ".py",
   "mimetype": "text/x-python",
   "name": "python",
   "nbconvert_exporter": "python",
   "pygments_lexer": "ipython3",
   "version": "3.8.8"
  }
 },
 "nbformat": 4,
 "nbformat_minor": 5
}
